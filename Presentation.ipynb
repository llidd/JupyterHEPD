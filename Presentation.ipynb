{
 "cells": [
  {
   "cell_type": "markdown",
   "metadata": {
    "slideshow": {
     "slide_type": "slide"
    }
   },
   "source": [
    "![title](images/jupyterhub-80.png)\n",
    "\n",
    "# новый интерактивый сервис для разработки и обмена исследовательскими данными"
   ]
  },
  {
   "cell_type": "markdown",
   "metadata": {
    "slideshow": {
     "slide_type": "subslide"
    }
   },
   "source": [
    "![title](images/auctor.jpg)\n",
    "Докладчик: Самохин Н.Ю., инженер отдела ОВС ОФВЭ"
   ]
  },
  {
   "cell_type": "markdown",
   "metadata": {
    "slideshow": {
     "slide_type": "slide"
    }
   },
   "source": [
    "## What is Jupyter?"
   ]
  },
  {
   "cell_type": "markdown",
   "metadata": {
    "slideshow": {
     "slide_type": "fragment"
    }
   },
   "source": [
    "_Jupyter_ — это проект с открытым исходным кодом, платформа, которая помогает максимально просто получить собственную web-среду разработки, не задумываясь о локальных пакетах и развертывании. С помощью Jupyter можно не только осуществлять обработку данных, но и делиться результатами с другими"
   ]
  },
  {
   "cell_type": "markdown",
   "metadata": {
    "slideshow": {
     "slide_type": "slide"
    }
   },
   "source": [
    "* Различные языки программирования (kernels)\n",
    "* Интерактивный код\n",
    "* Визуализация результатов"
   ]
  },
  {
   "cell_type": "markdown",
   "metadata": {
    "slideshow": {
     "slide_type": "subslide"
    }
   },
   "source": [
    "* редактировать код в браузере, с подсветкой синтаксиса, автоотступами и автодополнением\n",
    "* запускать код в браузере\n",
    "* отображать результаты вычислений с медиа представлением (схемы, графики)\n",
    "* работать с языком разметки Markdown и LaTeX"
   ]
  },
  {
   "cell_type": "markdown",
   "metadata": {
    "slideshow": {
     "slide_type": "subslide"
    }
   },
   "source": [
    "* Все в одном в файле *.ipynb [iPython Notebook]\n",
    "* Метаданные в формате JSON\n",
    "* Возможность экспорта в HTML, PDF"
   ]
  },
  {
   "cell_type": "markdown",
   "metadata": {
    "slideshow": {
     "slide_type": "slide"
    }
   },
   "source": [
    "# Поддерживаемые ядра\n",
    "![title](images/kernels.png)"
   ]
  },
  {
   "cell_type": "markdown",
   "metadata": {
    "slideshow": {
     "slide_type": "subslide"
    }
   },
   "source": [
    "![title](images/sh1.png)"
   ]
  },
  {
   "cell_type": "markdown",
   "metadata": {
    "slideshow": {
     "slide_type": "slide"
    }
   },
   "source": [
    "_UC Berkeley - самый большой курс по data science в мире, 1200+ студентов_\n",
    "\n",
    "+ cern, yandex, google, netflix?"
   ]
  },
  {
   "cell_type": "markdown",
   "metadata": {
    "slideshow": {
     "slide_type": "fragment"
    }
   },
   "source": [
    "![title](images/berkley.jpeg)"
   ]
  },
  {
   "cell_type": "markdown",
   "metadata": {
    "slideshow": {
     "slide_type": "slide"
    }
   },
   "source": [
    "![title](images/scheme1.jpeg)"
   ]
  },
  {
   "cell_type": "markdown",
   "metadata": {
    "slideshow": {
     "slide_type": "fragment"
    }
   },
   "source": [
    "\n",
    "* Персональный ноутбук-сервер для пользователя\n",
    "* Инициализация ядра (kernel) при подключении к ноутбуку\n",
    "* Общение между ядром и сервером посредством ZMQ\n",
    "* Сервер использует браузер в качестве интерфейса (JavaScript)\n",
    "\n",
    "![title](images/scheme2.png)"
   ]
  },
  {
   "cell_type": "markdown",
   "metadata": {
    "slideshow": {
     "slide_type": "slide"
    }
   },
   "source": [
    "# JupyterHub - персональный инстанс ноутбука для нескольких пользователей\n",
    "![title](images/scheme3.png)"
   ]
  },
  {
   "cell_type": "markdown",
   "metadata": {
    "slideshow": {
     "slide_type": "slide"
    }
   },
   "source": [
    "## Пример  1"
   ]
  },
  {
   "cell_type": "code",
   "execution_count": null,
   "metadata": {
    "slideshow": {
     "slide_type": "fragment"
    }
   },
   "outputs": [],
   "source": [
    "import numpy as np\n",
    "import matplotlib.pyplot as plt\n",
    "plt.ion()\n",
    "\n",
    "\"Hello world\""
   ]
  },
  {
   "cell_type": "code",
   "execution_count": null,
   "metadata": {
    "scrolled": true,
    "slideshow": {
     "slide_type": "fragment"
    }
   },
   "outputs": [],
   "source": [
    "def polynom(x):\n",
    "    return 2 * x**3 - 20 * x + 2\n",
    "\n",
    "X = np.linspace(-10, 10)\n",
    "Y = polynom(X)\n",
    "plt.plot(X, Y)"
   ]
  },
  {
   "cell_type": "code",
   "execution_count": null,
   "metadata": {
    "slideshow": {
     "slide_type": "fragment"
    }
   },
   "outputs": [],
   "source": [
    "from ipywidgets import interact, FloatSlider\n",
    "\n",
    "def parabolic(offset):\n",
    "    X = np.linspace(-10, 10)\n",
    "    Y = polynom(X-offset)\n",
    "    # use same y scale for all offsets\n",
    "    plt.gca().set_ylim([-100, 500])\n",
    "    plt.plot(X, Y);\n",
    "    \n",
    "interact(parabolic, offset=FloatSlider(min=-10., max=10., step=0.25))"
   ]
  },
  {
   "cell_type": "markdown",
   "metadata": {
    "slideshow": {
     "slide_type": "slide"
    }
   },
   "source": [
    "## Пример  2"
   ]
  },
  {
   "cell_type": "code",
   "execution_count": null,
   "metadata": {
    "slideshow": {
     "slide_type": "fragment"
    }
   },
   "outputs": [],
   "source": [
    "import ROOT\n",
    "from sys import exit\n",
    " \n",
    "try:\n",
    "    import numpy as np\n",
    "except:\n",
    "    print(\"Failed to import numpy.\")\n",
    "    exit()\n",
    " \n",
    " \n",
    "# Helper function to create an example tree\n",
    "def make_example():\n",
    "    root_file = ROOT.TFile(\"pyroot002_example.root\", \"RECREATE\")\n",
    "    tree = ROOT.TTree(\"tree\", \"tutorial\")\n",
    "    x = np.empty((1), dtype=\"float32\")\n",
    "    y = np.empty((1), dtype=\"float32\")\n",
    "    tree.Branch(\"x\", x, \"x/F\")\n",
    "    tree.Branch(\"y\", y, \"y/F\")\n",
    " \n",
    "    for i in range(4):\n",
    "        x[0] = i\n",
    "        y[0] = -i\n",
    "        tree.Fill()\n",
    "    root_file.Write()\n",
    " \n",
    "    return (root_file, x, y), tree\n",
    " \n",
    " \n",
    "# The conversion of the TTree to a numpy array is implemented with multi-\n",
    "# thread support.\n",
    "ROOT.ROOT.EnableImplicitMT()\n",
    " \n",
    "# Create a ROOT file with a tree and the branches \"x\" and \"y\"\n",
    "_, tree = make_example()\n",
    " \n",
    "# Print content of the tree by looping explicitly\n",
    "print(\"Tree content:\\n{}\\n\".format(\n",
    "    np.asarray([[tree.x, tree.y] for event in tree])))\n",
    " \n",
    "# Read-out full tree as numpy array\n",
    "array = tree.AsMatrix()\n",
    "print(\"Tree converted to a numpy array:\\n{}\\n\".format(array))\n",
    " \n",
    "# Get numpy array and according labels of the columns\n",
    "array, labels = tree.AsMatrix(return_labels=True)\n",
    "print(\"Return numpy array and labels:\\n{}\\n{}\\n\".format(labels, array))\n",
    " \n",
    "# Apply numpy methods on the data\n",
    "print(\"Mean of the columns retrieved with a numpy method: {}\\n\".format(\n",
    "    np.mean(array, axis=0)))\n",
    " \n",
    "# Read only specific branches\n",
    "array = tree.AsMatrix(columns=[\"x\"])\n",
    "print(\"Only the content of the branch 'x':\\n{}\\n\".format(np.squeeze(array)))\n",
    " \n",
    "array = tree.AsMatrix(exclude=[\"x\"])\n",
    "print(\"Read all branches except 'x':\\n{}\\n\".format(np.squeeze(array)))\n",
    " \n",
    "# Get an array with a specific data-type\n",
    "array = tree.AsMatrix(dtype=\"int\")\n",
    "print(\"Return numpy array with data-type 'int':\\n{}\\n\".format(array))\n",
    " \n",
    "## Convert the tree to a pandas.DataFrame\n",
    "try:\n",
    "    import pandas\n",
    "except:\n",
    "    print(\"Failed to import pandas.\")\n",
    "    exit()\n",
    " \n",
    "data, columns = tree.AsMatrix(return_labels=True)\n",
    "df = pandas.DataFrame(data=data, columns=columns)\n",
    "print(\"Tree converted to a pandas.DataFrame:\\n{}\".format(df))"
   ]
  },
  {
   "cell_type": "markdown",
   "metadata": {
    "slideshow": {
     "slide_type": "slide"
    }
   },
   "source": [
    "## IDE: JupyterLab\n",
    "\n",
    "* Интерфейс для ноутбуков нового поколения\n",
    "* Среда разработки внутри браузера\n",
    "* Упрощенное отображение и кастомизация интерфейса\n",
    "* Дополнительные инструменты - расширения, плагины, просмотр CSV, терминал\n",
    "* Drag/Drop для всех панелей (включая код)\n",
    "\n",
    "[notebook](https://hepd-lmsys001.pnpi.spb.ru:8019/user/llidd/tree) --> [jupyterlab](https://hepd-lmsys001.pnpi.spb.ru:8019/user/llidd/lab)"
   ]
  },
  {
   "cell_type": "markdown",
   "metadata": {
    "slideshow": {
     "slide_type": "subslide"
    }
   },
   "source": [
    "![title](images/jlab1.png)"
   ]
  },
  {
   "cell_type": "markdown",
   "metadata": {
    "slideshow": {
     "slide_type": "subslide"
    }
   },
   "source": [
    "![title](images/jlab2.png)"
   ]
  },
  {
   "cell_type": "markdown",
   "metadata": {
    "slideshow": {
     "slide_type": "subslide"
    }
   },
   "source": [
    "![title](images/jlab3.png)"
   ]
  },
  {
   "cell_type": "markdown",
   "metadata": {
    "slideshow": {
     "slide_type": "slide"
    }
   },
   "source": [
    "# Useful links\n",
    "\n",
    "* [Презентация участника проекта EuXFEL об экосистеме Jupyter](http://www.southampton.ac.uk/~fangohr/geheim/jupyter-workshop-icalepcs2019-fangohr-introduction.pdf)\n",
    "* [Яндекс и их опыт использования технологии Jupyter](https://habr.com/ru/company/yandex/blog/353546/)\n",
    "* [О том, как Netflix начал использовать ноутбуки](https://netflixtechblog.com/notebook-innovation-591ee3221233)"
   ]
  },
  {
   "cell_type": "markdown",
   "metadata": {
    "slideshow": {
     "slide_type": "slide"
    }
   },
   "source": [
    "# QUESTIONS"
   ]
  },
  {
   "cell_type": "markdown",
   "metadata": {
    "slideshow": {
     "slide_type": "subslide"
    }
   },
   "source": [
    "# E-mail: samon@itmo.ru\n",
    "# Tel: +7-921-869-46-48"
   ]
  }
 ],
 "metadata": {
  "celltoolbar": "Slideshow",
  "kernelspec": {
   "display_name": "python3_with_ROOT",
   "language": "python",
   "name": "py_root"
  },
  "language_info": {
   "codemirror_mode": {
    "name": "ipython",
    "version": 3
   },
   "file_extension": ".py",
   "mimetype": "text/x-python",
   "name": "python",
   "nbconvert_exporter": "python",
   "pygments_lexer": "ipython3",
   "version": "3.8.5"
  },
  "rise": {
   "scroll": true,
   "start_slideshow_at": "beginning"
  }
 },
 "nbformat": 4,
 "nbformat_minor": 4
}
